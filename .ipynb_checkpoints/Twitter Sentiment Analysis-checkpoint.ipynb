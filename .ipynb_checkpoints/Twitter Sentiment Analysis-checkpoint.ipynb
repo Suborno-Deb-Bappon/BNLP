{
 "cells": [
  {
   "cell_type": "code",
   "execution_count": 1,
   "metadata": {},
   "outputs": [],
   "source": [
    "import numpy as np\n",
    "import pandas as pd"
   ]
  },
  {
   "cell_type": "code",
   "execution_count": 2,
   "metadata": {},
   "outputs": [],
   "source": [
    "df = pd.read_csv('Sentiment.csv')"
   ]
  },
  {
   "cell_type": "code",
   "execution_count": 3,
   "metadata": {},
   "outputs": [
    {
     "data": {
      "text/html": [
       "<div>\n",
       "<style scoped>\n",
       "    .dataframe tbody tr th:only-of-type {\n",
       "        vertical-align: middle;\n",
       "    }\n",
       "\n",
       "    .dataframe tbody tr th {\n",
       "        vertical-align: top;\n",
       "    }\n",
       "\n",
       "    .dataframe thead th {\n",
       "        text-align: right;\n",
       "    }\n",
       "</style>\n",
       "<table border=\"1\" class=\"dataframe\">\n",
       "  <thead>\n",
       "    <tr style=\"text-align: right;\">\n",
       "      <th></th>\n",
       "      <th>id</th>\n",
       "      <th>candidate</th>\n",
       "      <th>candidate_confidence</th>\n",
       "      <th>relevant_yn</th>\n",
       "      <th>relevant_yn_confidence</th>\n",
       "      <th>sentiment</th>\n",
       "      <th>sentiment_confidence</th>\n",
       "      <th>subject_matter</th>\n",
       "      <th>subject_matter_confidence</th>\n",
       "      <th>candidate_gold</th>\n",
       "      <th>...</th>\n",
       "      <th>relevant_yn_gold</th>\n",
       "      <th>retweet_count</th>\n",
       "      <th>sentiment_gold</th>\n",
       "      <th>subject_matter_gold</th>\n",
       "      <th>text</th>\n",
       "      <th>tweet_coord</th>\n",
       "      <th>tweet_created</th>\n",
       "      <th>tweet_id</th>\n",
       "      <th>tweet_location</th>\n",
       "      <th>user_timezone</th>\n",
       "    </tr>\n",
       "  </thead>\n",
       "  <tbody>\n",
       "    <tr>\n",
       "      <th>0</th>\n",
       "      <td>1</td>\n",
       "      <td>No candidate mentioned</td>\n",
       "      <td>1.0</td>\n",
       "      <td>yes</td>\n",
       "      <td>1.0</td>\n",
       "      <td>Neutral</td>\n",
       "      <td>0.6578</td>\n",
       "      <td>None of the above</td>\n",
       "      <td>1.0000</td>\n",
       "      <td>NaN</td>\n",
       "      <td>...</td>\n",
       "      <td>NaN</td>\n",
       "      <td>5</td>\n",
       "      <td>NaN</td>\n",
       "      <td>NaN</td>\n",
       "      <td>RT @NancyLeeGrahn: How did everyone feel about...</td>\n",
       "      <td>NaN</td>\n",
       "      <td>2015-08-07 09:54:46 -0700</td>\n",
       "      <td>629697200650592256</td>\n",
       "      <td>NaN</td>\n",
       "      <td>Quito</td>\n",
       "    </tr>\n",
       "    <tr>\n",
       "      <th>1</th>\n",
       "      <td>2</td>\n",
       "      <td>Scott Walker</td>\n",
       "      <td>1.0</td>\n",
       "      <td>yes</td>\n",
       "      <td>1.0</td>\n",
       "      <td>Positive</td>\n",
       "      <td>0.6333</td>\n",
       "      <td>None of the above</td>\n",
       "      <td>1.0000</td>\n",
       "      <td>NaN</td>\n",
       "      <td>...</td>\n",
       "      <td>NaN</td>\n",
       "      <td>26</td>\n",
       "      <td>NaN</td>\n",
       "      <td>NaN</td>\n",
       "      <td>RT @ScottWalker: Didn't catch the full #GOPdeb...</td>\n",
       "      <td>NaN</td>\n",
       "      <td>2015-08-07 09:54:46 -0700</td>\n",
       "      <td>629697199560069120</td>\n",
       "      <td>NaN</td>\n",
       "      <td>NaN</td>\n",
       "    </tr>\n",
       "    <tr>\n",
       "      <th>2</th>\n",
       "      <td>3</td>\n",
       "      <td>No candidate mentioned</td>\n",
       "      <td>1.0</td>\n",
       "      <td>yes</td>\n",
       "      <td>1.0</td>\n",
       "      <td>Neutral</td>\n",
       "      <td>0.6629</td>\n",
       "      <td>None of the above</td>\n",
       "      <td>0.6629</td>\n",
       "      <td>NaN</td>\n",
       "      <td>...</td>\n",
       "      <td>NaN</td>\n",
       "      <td>27</td>\n",
       "      <td>NaN</td>\n",
       "      <td>NaN</td>\n",
       "      <td>RT @TJMShow: No mention of Tamir Rice and the ...</td>\n",
       "      <td>NaN</td>\n",
       "      <td>2015-08-07 09:54:46 -0700</td>\n",
       "      <td>629697199312482304</td>\n",
       "      <td>NaN</td>\n",
       "      <td>NaN</td>\n",
       "    </tr>\n",
       "    <tr>\n",
       "      <th>3</th>\n",
       "      <td>4</td>\n",
       "      <td>No candidate mentioned</td>\n",
       "      <td>1.0</td>\n",
       "      <td>yes</td>\n",
       "      <td>1.0</td>\n",
       "      <td>Positive</td>\n",
       "      <td>1.0000</td>\n",
       "      <td>None of the above</td>\n",
       "      <td>0.7039</td>\n",
       "      <td>NaN</td>\n",
       "      <td>...</td>\n",
       "      <td>NaN</td>\n",
       "      <td>138</td>\n",
       "      <td>NaN</td>\n",
       "      <td>NaN</td>\n",
       "      <td>RT @RobGeorge: That Carly Fiorina is trending ...</td>\n",
       "      <td>NaN</td>\n",
       "      <td>2015-08-07 09:54:45 -0700</td>\n",
       "      <td>629697197118861312</td>\n",
       "      <td>Texas</td>\n",
       "      <td>Central Time (US &amp; Canada)</td>\n",
       "    </tr>\n",
       "    <tr>\n",
       "      <th>4</th>\n",
       "      <td>5</td>\n",
       "      <td>Donald Trump</td>\n",
       "      <td>1.0</td>\n",
       "      <td>yes</td>\n",
       "      <td>1.0</td>\n",
       "      <td>Positive</td>\n",
       "      <td>0.7045</td>\n",
       "      <td>None of the above</td>\n",
       "      <td>1.0000</td>\n",
       "      <td>NaN</td>\n",
       "      <td>...</td>\n",
       "      <td>NaN</td>\n",
       "      <td>156</td>\n",
       "      <td>NaN</td>\n",
       "      <td>NaN</td>\n",
       "      <td>RT @DanScavino: #GOPDebate w/ @realDonaldTrump...</td>\n",
       "      <td>NaN</td>\n",
       "      <td>2015-08-07 09:54:45 -0700</td>\n",
       "      <td>629697196967903232</td>\n",
       "      <td>NaN</td>\n",
       "      <td>Arizona</td>\n",
       "    </tr>\n",
       "  </tbody>\n",
       "</table>\n",
       "<p>5 rows × 21 columns</p>\n",
       "</div>"
      ],
      "text/plain": [
       "   id               candidate  candidate_confidence relevant_yn  \\\n",
       "0   1  No candidate mentioned                   1.0         yes   \n",
       "1   2            Scott Walker                   1.0         yes   \n",
       "2   3  No candidate mentioned                   1.0         yes   \n",
       "3   4  No candidate mentioned                   1.0         yes   \n",
       "4   5            Donald Trump                   1.0         yes   \n",
       "\n",
       "   relevant_yn_confidence sentiment  sentiment_confidence     subject_matter  \\\n",
       "0                     1.0   Neutral                0.6578  None of the above   \n",
       "1                     1.0  Positive                0.6333  None of the above   \n",
       "2                     1.0   Neutral                0.6629  None of the above   \n",
       "3                     1.0  Positive                1.0000  None of the above   \n",
       "4                     1.0  Positive                0.7045  None of the above   \n",
       "\n",
       "   subject_matter_confidence candidate_gold  ... relevant_yn_gold  \\\n",
       "0                     1.0000            NaN  ...              NaN   \n",
       "1                     1.0000            NaN  ...              NaN   \n",
       "2                     0.6629            NaN  ...              NaN   \n",
       "3                     0.7039            NaN  ...              NaN   \n",
       "4                     1.0000            NaN  ...              NaN   \n",
       "\n",
       "  retweet_count  sentiment_gold subject_matter_gold  \\\n",
       "0             5             NaN                 NaN   \n",
       "1            26             NaN                 NaN   \n",
       "2            27             NaN                 NaN   \n",
       "3           138             NaN                 NaN   \n",
       "4           156             NaN                 NaN   \n",
       "\n",
       "                                                text tweet_coord  \\\n",
       "0  RT @NancyLeeGrahn: How did everyone feel about...         NaN   \n",
       "1  RT @ScottWalker: Didn't catch the full #GOPdeb...         NaN   \n",
       "2  RT @TJMShow: No mention of Tamir Rice and the ...         NaN   \n",
       "3  RT @RobGeorge: That Carly Fiorina is trending ...         NaN   \n",
       "4  RT @DanScavino: #GOPDebate w/ @realDonaldTrump...         NaN   \n",
       "\n",
       "               tweet_created            tweet_id  tweet_location  \\\n",
       "0  2015-08-07 09:54:46 -0700  629697200650592256             NaN   \n",
       "1  2015-08-07 09:54:46 -0700  629697199560069120             NaN   \n",
       "2  2015-08-07 09:54:46 -0700  629697199312482304             NaN   \n",
       "3  2015-08-07 09:54:45 -0700  629697197118861312           Texas   \n",
       "4  2015-08-07 09:54:45 -0700  629697196967903232             NaN   \n",
       "\n",
       "                user_timezone  \n",
       "0                       Quito  \n",
       "1                         NaN  \n",
       "2                         NaN  \n",
       "3  Central Time (US & Canada)  \n",
       "4                     Arizona  \n",
       "\n",
       "[5 rows x 21 columns]"
      ]
     },
     "execution_count": 3,
     "metadata": {},
     "output_type": "execute_result"
    }
   ],
   "source": [
    "df.head()"
   ]
  },
  {
   "cell_type": "code",
   "execution_count": 4,
   "metadata": {},
   "outputs": [],
   "source": [
    "tweet_df = df[['text','sentiment']]"
   ]
  },
  {
   "cell_type": "code",
   "execution_count": 5,
   "metadata": {},
   "outputs": [
    {
     "data": {
      "text/html": [
       "<div>\n",
       "<style scoped>\n",
       "    .dataframe tbody tr th:only-of-type {\n",
       "        vertical-align: middle;\n",
       "    }\n",
       "\n",
       "    .dataframe tbody tr th {\n",
       "        vertical-align: top;\n",
       "    }\n",
       "\n",
       "    .dataframe thead th {\n",
       "        text-align: right;\n",
       "    }\n",
       "</style>\n",
       "<table border=\"1\" class=\"dataframe\">\n",
       "  <thead>\n",
       "    <tr style=\"text-align: right;\">\n",
       "      <th></th>\n",
       "      <th>text</th>\n",
       "      <th>sentiment</th>\n",
       "    </tr>\n",
       "  </thead>\n",
       "  <tbody>\n",
       "    <tr>\n",
       "      <th>0</th>\n",
       "      <td>RT @NancyLeeGrahn: How did everyone feel about...</td>\n",
       "      <td>Neutral</td>\n",
       "    </tr>\n",
       "    <tr>\n",
       "      <th>1</th>\n",
       "      <td>RT @ScottWalker: Didn't catch the full #GOPdeb...</td>\n",
       "      <td>Positive</td>\n",
       "    </tr>\n",
       "    <tr>\n",
       "      <th>2</th>\n",
       "      <td>RT @TJMShow: No mention of Tamir Rice and the ...</td>\n",
       "      <td>Neutral</td>\n",
       "    </tr>\n",
       "    <tr>\n",
       "      <th>3</th>\n",
       "      <td>RT @RobGeorge: That Carly Fiorina is trending ...</td>\n",
       "      <td>Positive</td>\n",
       "    </tr>\n",
       "    <tr>\n",
       "      <th>4</th>\n",
       "      <td>RT @DanScavino: #GOPDebate w/ @realDonaldTrump...</td>\n",
       "      <td>Positive</td>\n",
       "    </tr>\n",
       "  </tbody>\n",
       "</table>\n",
       "</div>"
      ],
      "text/plain": [
       "                                                text sentiment\n",
       "0  RT @NancyLeeGrahn: How did everyone feel about...   Neutral\n",
       "1  RT @ScottWalker: Didn't catch the full #GOPdeb...  Positive\n",
       "2  RT @TJMShow: No mention of Tamir Rice and the ...   Neutral\n",
       "3  RT @RobGeorge: That Carly Fiorina is trending ...  Positive\n",
       "4  RT @DanScavino: #GOPDebate w/ @realDonaldTrump...  Positive"
      ]
     },
     "execution_count": 5,
     "metadata": {},
     "output_type": "execute_result"
    }
   ],
   "source": [
    "tweet_df.head()"
   ]
  },
  {
   "cell_type": "code",
   "execution_count": 6,
   "metadata": {},
   "outputs": [],
   "source": [
    "tweet_df = tweet_df[tweet_df['sentiment'] != 'Neutral']"
   ]
  },
  {
   "cell_type": "code",
   "execution_count": 7,
   "metadata": {},
   "outputs": [
    {
     "data": {
      "text/html": [
       "<div>\n",
       "<style scoped>\n",
       "    .dataframe tbody tr th:only-of-type {\n",
       "        vertical-align: middle;\n",
       "    }\n",
       "\n",
       "    .dataframe tbody tr th {\n",
       "        vertical-align: top;\n",
       "    }\n",
       "\n",
       "    .dataframe thead th {\n",
       "        text-align: right;\n",
       "    }\n",
       "</style>\n",
       "<table border=\"1\" class=\"dataframe\">\n",
       "  <thead>\n",
       "    <tr style=\"text-align: right;\">\n",
       "      <th></th>\n",
       "      <th>text</th>\n",
       "      <th>sentiment</th>\n",
       "    </tr>\n",
       "  </thead>\n",
       "  <tbody>\n",
       "    <tr>\n",
       "      <th>1</th>\n",
       "      <td>RT @ScottWalker: Didn't catch the full #GOPdeb...</td>\n",
       "      <td>Positive</td>\n",
       "    </tr>\n",
       "    <tr>\n",
       "      <th>3</th>\n",
       "      <td>RT @RobGeorge: That Carly Fiorina is trending ...</td>\n",
       "      <td>Positive</td>\n",
       "    </tr>\n",
       "    <tr>\n",
       "      <th>4</th>\n",
       "      <td>RT @DanScavino: #GOPDebate w/ @realDonaldTrump...</td>\n",
       "      <td>Positive</td>\n",
       "    </tr>\n",
       "    <tr>\n",
       "      <th>5</th>\n",
       "      <td>RT @GregAbbott_TX: @TedCruz: \"On my first day ...</td>\n",
       "      <td>Positive</td>\n",
       "    </tr>\n",
       "    <tr>\n",
       "      <th>6</th>\n",
       "      <td>RT @warriorwoman91: I liked her and was happy ...</td>\n",
       "      <td>Negative</td>\n",
       "    </tr>\n",
       "  </tbody>\n",
       "</table>\n",
       "</div>"
      ],
      "text/plain": [
       "                                                text sentiment\n",
       "1  RT @ScottWalker: Didn't catch the full #GOPdeb...  Positive\n",
       "3  RT @RobGeorge: That Carly Fiorina is trending ...  Positive\n",
       "4  RT @DanScavino: #GOPDebate w/ @realDonaldTrump...  Positive\n",
       "5  RT @GregAbbott_TX: @TedCruz: \"On my first day ...  Positive\n",
       "6  RT @warriorwoman91: I liked her and was happy ...  Negative"
      ]
     },
     "execution_count": 7,
     "metadata": {},
     "output_type": "execute_result"
    }
   ],
   "source": [
    "tweet_df.head()"
   ]
  },
  {
   "cell_type": "code",
   "execution_count": 8,
   "metadata": {},
   "outputs": [],
   "source": [
    "sentiment_label = tweet_df.sentiment.factorize()"
   ]
  },
  {
   "cell_type": "code",
   "execution_count": 10,
   "metadata": {},
   "outputs": [],
   "source": [
    "from tensorflow.keras.preprocessing.text import Tokenizer\n",
    "from tensorflow.keras.preprocessing.sequence import pad_sequences\n",
    "tweet = tweet_df.text.values\n",
    "tokenizer = Tokenizer(num_words = 5000)\n",
    "tokenizer.fit_on_texts(tweet)\n",
    "vocab_size = len(tokenizer.word_index) + 1\n",
    "encoded_docs = tokenizer.texts_to_sequences(tweet)\n",
    "padded_sequence = pad_sequences(encoded_docs, maxlen = 200)"
   ]
  },
  {
   "cell_type": "code",
   "execution_count": 11,
   "metadata": {},
   "outputs": [
    {
     "name": "stdout",
     "output_type": "stream",
     "text": [
      "RT @ScottWalker: Didn't catch the full #GOPdebate last night. Here are some of Scott's best lines in 90 seconds. #Walker16 http://t.co/ZSfF…\n",
      "[3, 365, 135, 2459, 1, 716, 2, 45, 65, 258, 42, 215, 7, 4368, 177, 1794, 18, 1339, 1430, 761, 13, 10, 11]\n"
     ]
    }
   ],
   "source": [
    "print(tweet[0])\n",
    "print(encoded_docs[0])"
   ]
  },
  {
   "cell_type": "code",
   "execution_count": 12,
   "metadata": {},
   "outputs": [
    {
     "data": {
      "text/plain": [
       "array([   0,    0,    0,    0,    0,    0,    0,    0,    0,    0,    0,\n",
       "          0,    0,    0,    0,    0,    0,    0,    0,    0,    0,    0,\n",
       "          0,    0,    0,    0,    0,    0,    0,    0,    0,    0,    0,\n",
       "          0,    0,    0,    0,    0,    0,    0,    0,    0,    0,    0,\n",
       "          0,    0,    0,    0,    0,    0,    0,    0,    0,    0,    0,\n",
       "          0,    0,    0,    0,    0,    0,    0,    0,    0,    0,    0,\n",
       "          0,    0,    0,    0,    0,    0,    0,    0,    0,    0,    0,\n",
       "          0,    0,    0,    0,    0,    0,    0,    0,    0,    0,    0,\n",
       "          0,    0,    0,    0,    0,    0,    0,    0,    0,    0,    0,\n",
       "          0,    0,    0,    0,    0,    0,    0,    0,    0,    0,    0,\n",
       "          0,    0,    0,    0,    0,    0,    0,    0,    0,    0,    0,\n",
       "          0,    0,    0,    0,    0,    0,    0,    0,    0,    0,    0,\n",
       "          0,    0,    0,    0,    0,    0,    0,    0,    0,    0,    0,\n",
       "          0,    0,    0,    0,    0,    0,    0,    0,    0,    0,    0,\n",
       "          0,    0,    0,    0,    0,    0,    0,    0,    0,    0,    0,\n",
       "          0,    0,    0,    0,    0,    0,    0,    0,    0,    0,    0,\n",
       "          0,    3,  365,  135, 2459,    1,  716,    2,   45,   65,  258,\n",
       "         42,  215,    7, 4368,  177, 1794,   18, 1339, 1430,  761,   13,\n",
       "         10,   11])"
      ]
     },
     "execution_count": 12,
     "metadata": {},
     "output_type": "execute_result"
    }
   ],
   "source": [
    "padded_sequence[0]"
   ]
  },
  {
   "cell_type": "code",
   "execution_count": 16,
   "metadata": {},
   "outputs": [
    {
     "name": "stdout",
     "output_type": "stream",
     "text": [
      "Model: \"sequential_1\"\n",
      "_________________________________________________________________\n",
      "Layer (type)                 Output Shape              Param #   \n",
      "=================================================================\n",
      "embedding_1 (Embedding)      (None, 200, 32)           506240    \n",
      "_________________________________________________________________\n",
      "spatial_dropout1d_1 (Spatial (None, 200, 32)           0         \n",
      "_________________________________________________________________\n",
      "lstm_1 (LSTM)                (None, 50)                16600     \n",
      "_________________________________________________________________\n",
      "dropout_1 (Dropout)          (None, 50)                0         \n",
      "_________________________________________________________________\n",
      "dense_1 (Dense)              (None, 1)                 51        \n",
      "=================================================================\n",
      "Total params: 522,891\n",
      "Trainable params: 522,891\n",
      "Non-trainable params: 0\n",
      "_________________________________________________________________\n",
      "None\n"
     ]
    }
   ],
   "source": [
    "from tensorflow.keras.models import Sequential\n",
    "from tensorflow.keras.layers import LSTM\n",
    "from tensorflow.keras.layers import Dropout\n",
    "from tensorflow.keras.layers import Dense\n",
    "from tensorflow.keras.layers import SpatialDropout1D\n",
    "from tensorflow.keras.layers import Embedding\n",
    "embedding_vector_length = 32\n",
    "model = Sequential()\n",
    "model.add(Embedding(vocab_size,embedding_vector_length,input_length = 200))\n",
    "model.add(SpatialDropout1D(0.25))\n",
    "model.add(LSTM(50,dropout = 0.5, recurrent_dropout = 0.5))\n",
    "model.add(Dropout(0.2))\n",
    "model.add(Dense(1,activation = 'sigmoid'))\n",
    "model.compile(loss='binary_crossentropy',optimizer = 'adam', metrics = ['accuracy'])\n",
    "print(model.summary())"
   ]
  },
  {
   "cell_type": "code",
   "execution_count": 17,
   "metadata": {},
   "outputs": [
    {
     "name": "stdout",
     "output_type": "stream",
     "text": [
      "Train on 8583 samples, validate on 2146 samples\n",
      "Epoch 1/5\n",
      "8583/8583 [==============================] - 36s 4ms/sample - loss: 0.5035 - acc: 0.7934 - val_loss: 0.4533 - val_acc: 0.8043\n",
      "Epoch 2/5\n",
      "8583/8583 [==============================] - 35s 4ms/sample - loss: 0.3749 - acc: 0.8404 - val_loss: 0.3532 - val_acc: 0.8234\n",
      "Epoch 3/5\n",
      "8583/8583 [==============================] - 35s 4ms/sample - loss: 0.3101 - acc: 0.8717 - val_loss: 0.3294 - val_acc: 0.8551\n",
      "Epoch 4/5\n",
      "8583/8583 [==============================] - 35s 4ms/sample - loss: 0.2762 - acc: 0.8875 - val_loss: 0.3350 - val_acc: 0.8551\n",
      "Epoch 5/5\n",
      "8583/8583 [==============================] - 35s 4ms/sample - loss: 0.2544 - acc: 0.8967 - val_loss: 0.3593 - val_acc: 0.8602\n"
     ]
    }
   ],
   "source": [
    "history = model.fit(padded_sequence, sentiment_label[0], validation_split = 0.2, epochs = 5, batch_size = 32)"
   ]
  },
  {
   "cell_type": "code",
   "execution_count": 28,
   "metadata": {},
   "outputs": [
    {
     "data": {
      "text/plain": [
       "'Negative'"
      ]
     },
     "execution_count": 28,
     "metadata": {},
     "output_type": "execute_result"
    }
   ],
   "source": [
    "test_word = \"Donald Trump is a bad person\"\n",
    "tw = tokenizer.texts_to_sequences([test_word])\n",
    "tw = pad_sequences(tw,maxlen=200)\n",
    "prediction = int(model.predict(tw).round().item())\n",
    "sentiment_label[1][prediction]"
   ]
  },
  {
   "cell_type": "code",
   "execution_count": 35,
   "metadata": {},
   "outputs": [
    {
     "name": "stdout",
     "output_type": "stream",
     "text": [
      "Collecting apriori_python\n",
      "  Downloading https://files.pythonhosted.org/packages/34/94/fc3bacb14e6e5c63d24c5a90132185d63c08479cd27a61a0e22dd2b7ed77/apriori_python-1.0.4-py3-none-any.whl\n",
      "Installing collected packages: apriori-python\n",
      "Successfully installed apriori-python-1.0.4\n",
      "Note: you may need to restart the kernel to use updated packages.\n"
     ]
    }
   ],
   "source": [
    "pip install apriori_python"
   ]
  },
  {
   "cell_type": "code",
   "execution_count": 1,
   "metadata": {},
   "outputs": [
    {
     "name": "stdout",
     "output_type": "stream",
     "text": [
      "Collecting apyori\n",
      "  Using cached https://files.pythonhosted.org/packages/5e/62/5ffde5c473ea4b033490617ec5caa80d59804875ad3c3c57c0976533a21a/apyori-1.1.2.tar.gz\n",
      "Building wheels for collected packages: apyori\n",
      "  Building wheel for apyori (setup.py): started\n",
      "  Building wheel for apyori (setup.py): finished with status 'done'\n",
      "  Stored in directory: C:\\Users\\Suborno Deb\\AppData\\Local\\pip\\Cache\\wheels\\5d\\92\\bb\\474bbadbc8c0062b9eb168f69982a0443263f8ab1711a8cad0\n",
      "Successfully built apyori\n",
      "Installing collected packages: apyori\n",
      "Successfully installed apyori-1.1.2\n",
      "Note: you may need to restart the kernel to use updated packages.\n"
     ]
    }
   ],
   "source": [
    "pip install apyori"
   ]
  },
  {
   "cell_type": "code",
   "execution_count": 1,
   "metadata": {},
   "outputs": [],
   "source": [
    "from apyori import apriori"
   ]
  },
  {
   "cell_type": "code",
   "execution_count": 2,
   "metadata": {},
   "outputs": [
    {
     "name": "stdout",
     "output_type": "stream",
     "text": [
      "Requirement already satisfied: bnltk in c:\\users\\public\\anaconda3\\lib\\site-packages (0.7.6)\n",
      "Requirement already satisfied: tensorflow in c:\\users\\public\\anaconda3\\lib\\site-packages (from bnltk) (1.14.0)\n",
      "Requirement already satisfied: requests in c:\\users\\public\\anaconda3\\lib\\site-packages (from bnltk) (2.21.0)\n",
      "Requirement already satisfied: numpy in c:\\users\\public\\anaconda3\\lib\\site-packages (from bnltk) (1.16.2)\n",
      "Requirement already satisfied: keras in c:\\users\\public\\anaconda3\\lib\\site-packages (from bnltk) (2.3.1)\n",
      "Requirement already satisfied: sklearn in c:\\users\\public\\anaconda3\\lib\\site-packages (from bnltk) (0.0)\n",
      "Requirement already satisfied: gast>=0.2.0 in c:\\users\\public\\anaconda3\\lib\\site-packages (from tensorflow->bnltk) (0.4.0)\n",
      "Requirement already satisfied: termcolor>=1.1.0 in c:\\users\\public\\anaconda3\\lib\\site-packages (from tensorflow->bnltk) (1.1.0)\n",
      "Requirement already satisfied: tensorboard<1.15.0,>=1.14.0 in c:\\users\\public\\anaconda3\\lib\\site-packages (from tensorflow->bnltk) (1.14.0)\n",
      "Requirement already satisfied: tensorflow-estimator<1.15.0rc0,>=1.14.0rc0 in c:\\users\\public\\anaconda3\\lib\\site-packages (from tensorflow->bnltk) (1.14.0)\n",
      "Requirement already satisfied: astor>=0.6.0 in c:\\users\\public\\anaconda3\\lib\\site-packages (from tensorflow->bnltk) (0.8.1)\n",
      "Requirement already satisfied: grpcio>=1.8.6 in c:\\users\\public\\anaconda3\\lib\\site-packages (from tensorflow->bnltk) (1.23.0)\n",
      "Requirement already satisfied: absl-py>=0.7.0 in c:\\users\\public\\anaconda3\\lib\\site-packages (from tensorflow->bnltk) (0.11.0)\n",
      "Requirement already satisfied: wheel>=0.26 in c:\\users\\public\\anaconda3\\lib\\site-packages (from tensorflow->bnltk) (0.33.1)\n",
      "Requirement already satisfied: wrapt>=1.11.1 in c:\\users\\public\\anaconda3\\lib\\site-packages (from tensorflow->bnltk) (1.11.1)\n",
      "Requirement already satisfied: protobuf>=3.6.1 in c:\\users\\public\\anaconda3\\lib\\site-packages (from tensorflow->bnltk) (3.11.4)\n",
      "Requirement already satisfied: keras-applications>=1.0.6 in c:\\users\\public\\anaconda3\\lib\\site-packages (from tensorflow->bnltk) (1.0.8)\n",
      "Requirement already satisfied: six>=1.10.0 in c:\\users\\public\\anaconda3\\lib\\site-packages (from tensorflow->bnltk) (1.12.0)\n",
      "Requirement already satisfied: google-pasta>=0.1.6 in c:\\users\\public\\anaconda3\\lib\\site-packages (from tensorflow->bnltk) (0.2.0)\n",
      "Requirement already satisfied: keras-preprocessing>=1.0.5 in c:\\users\\public\\anaconda3\\lib\\site-packages (from tensorflow->bnltk) (1.1.0)\n",
      "Requirement already satisfied: certifi>=2017.4.17 in c:\\users\\public\\anaconda3\\lib\\site-packages (from requests->bnltk) (2019.11.28)\n",
      "Requirement already satisfied: chardet<3.1.0,>=3.0.2 in c:\\users\\public\\anaconda3\\lib\\site-packages (from requests->bnltk) (3.0.4)\n",
      "Requirement already satisfied: urllib3<1.25,>=1.21.1 in c:\\users\\public\\anaconda3\\lib\\site-packages (from requests->bnltk) (1.24.1)\n",
      "Requirement already satisfied: idna<2.9,>=2.5 in c:\\users\\public\\anaconda3\\lib\\site-packages (from requests->bnltk) (2.8)\n",
      "Requirement already satisfied: scipy>=0.14 in c:\\users\\public\\anaconda3\\lib\\site-packages (from keras->bnltk) (1.2.1)\n",
      "Requirement already satisfied: h5py in c:\\users\\public\\anaconda3\\lib\\site-packages (from keras->bnltk) (2.9.0)\n",
      "Requirement already satisfied: pyyaml in c:\\users\\public\\anaconda3\\lib\\site-packages (from keras->bnltk) (5.1)\n",
      "Requirement already satisfied: scikit-learn in c:\\users\\public\\anaconda3\\lib\\site-packages (from sklearn->bnltk) (0.21.1)\n",
      "Collecting setuptools>=41.0.0 (from tensorboard<1.15.0,>=1.14.0->tensorflow->bnltk)\n",
      "  Downloading https://files.pythonhosted.org/packages/aa/d4/0089d680a610c7b5afda26c1ae588eb363b9050ccf5f33a8c2d1164210f3/setuptools-51.1.2-py3-none-any.whl (784kB)\n",
      "Requirement already satisfied: werkzeug>=0.11.15 in c:\\users\\public\\anaconda3\\lib\\site-packages (from tensorboard<1.15.0,>=1.14.0->tensorflow->bnltk) (0.14.1)\n",
      "Requirement already satisfied: markdown>=2.6.8 in c:\\users\\public\\anaconda3\\lib\\site-packages (from tensorboard<1.15.0,>=1.14.0->tensorflow->bnltk) (3.2.1)\n",
      "Requirement already satisfied: joblib>=0.11 in c:\\users\\public\\anaconda3\\lib\\site-packages (from scikit-learn->sklearn->bnltk) (0.14.0)\n",
      "Installing collected packages: setuptools\n",
      "  Found existing installation: setuptools 40.8.0\n",
      "    Uninstalling setuptools-40.8.0:\n",
      "      Successfully uninstalled setuptools-40.8.0\n",
      "Successfully installed setuptools-51.1.2\n",
      "Note: you may need to restart the kernel to use updated packages.\n"
     ]
    }
   ],
   "source": [
    "pip install bnltk"
   ]
  },
  {
   "cell_type": "code",
   "execution_count": 3,
   "metadata": {},
   "outputs": [
    {
     "name": "stdout",
     "output_type": "stream",
     "text": [
      "Requirement already satisfied: bnltk in c:\\users\\public\\anaconda3\\lib\\site-packages (0.7.6)\n",
      "Requirement already satisfied: tensorflow in c:\\users\\public\\anaconda3\\lib\\site-packages (from bnltk) (1.14.0)\n",
      "Requirement already satisfied: numpy in c:\\users\\public\\anaconda3\\lib\\site-packages (from bnltk) (1.16.2)\n",
      "Requirement already satisfied: requests in c:\\users\\public\\anaconda3\\lib\\site-packages (from bnltk) (2.21.0)\n",
      "Requirement already satisfied: sklearn in c:\\users\\public\\anaconda3\\lib\\site-packages (from bnltk) (0.0)\n",
      "Requirement already satisfied: keras in c:\\users\\public\\anaconda3\\lib\\site-packages (from bnltk) (2.3.1)\n",
      "Requirement already satisfied: astor>=0.6.0 in c:\\users\\public\\anaconda3\\lib\\site-packages (from tensorflow->bnltk) (0.8.1)\n",
      "Requirement already satisfied: protobuf>=3.6.1 in c:\\users\\public\\anaconda3\\lib\\site-packages (from tensorflow->bnltk) (3.11.4)\n",
      "Requirement already satisfied: six>=1.10.0 in c:\\users\\public\\anaconda3\\lib\\site-packages (from tensorflow->bnltk) (1.12.0)\n",
      "Requirement already satisfied: absl-py>=0.7.0 in c:\\users\\public\\anaconda3\\lib\\site-packages (from tensorflow->bnltk) (0.11.0)\n",
      "Requirement already satisfied: wrapt>=1.11.1 in c:\\users\\public\\anaconda3\\lib\\site-packages (from tensorflow->bnltk) (1.11.1)\n",
      "Requirement already satisfied: keras-preprocessing>=1.0.5 in c:\\users\\public\\anaconda3\\lib\\site-packages (from tensorflow->bnltk) (1.1.0)\n",
      "Requirement already satisfied: keras-applications>=1.0.6 in c:\\users\\public\\anaconda3\\lib\\site-packages (from tensorflow->bnltk) (1.0.8)\n",
      "Requirement already satisfied: grpcio>=1.8.6 in c:\\users\\public\\anaconda3\\lib\\site-packages (from tensorflow->bnltk) (1.23.0)\n",
      "Requirement already satisfied: termcolor>=1.1.0 in c:\\users\\public\\anaconda3\\lib\\site-packages (from tensorflow->bnltk) (1.1.0)\n",
      "Requirement already satisfied: gast>=0.2.0 in c:\\users\\public\\anaconda3\\lib\\site-packages (from tensorflow->bnltk) (0.4.0)\n",
      "Requirement already satisfied: wheel>=0.26 in c:\\users\\public\\anaconda3\\lib\\site-packages (from tensorflow->bnltk) (0.33.1)\n",
      "Requirement already satisfied: google-pasta>=0.1.6 in c:\\users\\public\\anaconda3\\lib\\site-packages (from tensorflow->bnltk) (0.2.0)\n",
      "Requirement already satisfied: tensorflow-estimator<1.15.0rc0,>=1.14.0rc0 in c:\\users\\public\\anaconda3\\lib\\site-packages (from tensorflow->bnltk) (1.14.0)\n",
      "Requirement already satisfied: tensorboard<1.15.0,>=1.14.0 in c:\\users\\public\\anaconda3\\lib\\site-packages (from tensorflow->bnltk) (1.14.0)\n",
      "Requirement already satisfied: idna<2.9,>=2.5 in c:\\users\\public\\anaconda3\\lib\\site-packages (from requests->bnltk) (2.8)\n",
      "Requirement already satisfied: certifi>=2017.4.17 in c:\\users\\public\\anaconda3\\lib\\site-packages (from requests->bnltk) (2019.11.28)\n",
      "Requirement already satisfied: chardet<3.1.0,>=3.0.2 in c:\\users\\public\\anaconda3\\lib\\site-packages (from requests->bnltk) (3.0.4)\n",
      "Requirement already satisfied: urllib3<1.25,>=1.21.1 in c:\\users\\public\\anaconda3\\lib\\site-packages (from requests->bnltk) (1.24.1)\n",
      "Requirement already satisfied: scikit-learn in c:\\users\\public\\anaconda3\\lib\\site-packages (from sklearn->bnltk) (0.21.1)\n",
      "Requirement already satisfied: scipy>=0.14 in c:\\users\\public\\anaconda3\\lib\\site-packages (from keras->bnltk) (1.2.1)\n",
      "Requirement already satisfied: h5py in c:\\users\\public\\anaconda3\\lib\\site-packages (from keras->bnltk) (2.9.0)\n",
      "Requirement already satisfied: pyyaml in c:\\users\\public\\anaconda3\\lib\\site-packages (from keras->bnltk) (5.1)\n",
      "Requirement already satisfied: setuptools in c:\\users\\public\\anaconda3\\lib\\site-packages (from protobuf>=3.6.1->tensorflow->bnltk) (51.1.2)\n",
      "Requirement already satisfied: werkzeug>=0.11.15 in c:\\users\\public\\anaconda3\\lib\\site-packages (from tensorboard<1.15.0,>=1.14.0->tensorflow->bnltk) (0.14.1)\n",
      "Requirement already satisfied: markdown>=2.6.8 in c:\\users\\public\\anaconda3\\lib\\site-packages (from tensorboard<1.15.0,>=1.14.0->tensorflow->bnltk) (3.2.1)\n",
      "Requirement already satisfied: joblib>=0.11 in c:\\users\\public\\anaconda3\\lib\\site-packages (from scikit-learn->sklearn->bnltk) (0.14.0)\n",
      "Note: you may need to restart the kernel to use updated packages.\n"
     ]
    }
   ],
   "source": [
    "pip install bnltk"
   ]
  },
  {
   "cell_type": "code",
   "execution_count": 4,
   "metadata": {},
   "outputs": [
    {
     "name": "stdout",
     "output_type": "stream",
     "text": [
      "Collecting bnlp_toolkit\n",
      "  Downloading https://files.pythonhosted.org/packages/16/be/44d78b55ad8121cce1ca0bdbc7cf1db8d3f585006bacb08bd53ec8653957/bnlp_toolkit-3.0.0-py3-none-any.whl\n",
      "Collecting sentencepiece (from bnlp_toolkit)\n",
      "  Downloading https://files.pythonhosted.org/packages/2b/6d/b34d43118887d514f19fea262c09ed1fc357f86a2c42d71fe46a84818e55/sentencepiece-0.1.95-cp37-cp37m-win_amd64.whl (1.2MB)\n",
      "Requirement already satisfied: scipy in c:\\users\\public\\anaconda3\\lib\\site-packages (from bnlp_toolkit) (1.2.1)\n",
      "Requirement already satisfied: numpy in c:\\users\\public\\anaconda3\\lib\\site-packages (from bnlp_toolkit) (1.16.2)\n",
      "Collecting sklearn-crfsuite (from bnlp_toolkit)\n",
      "  Downloading https://files.pythonhosted.org/packages/25/74/5b7befa513482e6dee1f3dd68171a6c9dfc14c0eaa00f885ffeba54fe9b0/sklearn_crfsuite-0.3.6-py2.py3-none-any.whl\n",
      "Requirement already satisfied: nltk in c:\\users\\public\\anaconda3\\lib\\site-packages (from bnlp_toolkit) (3.4)\n",
      "Collecting gensim (from bnlp_toolkit)\n",
      "  Downloading https://files.pythonhosted.org/packages/0b/66/04faeedb98bfa5f241d0399d0102456886179cabac0355475f23a2978847/gensim-3.8.3-cp37-cp37m-win_amd64.whl (24.2MB)\n",
      "Requirement already satisfied: six in c:\\users\\public\\anaconda3\\lib\\site-packages (from sklearn-crfsuite->bnlp_toolkit) (1.12.0)\n",
      "Collecting python-crfsuite>=0.8.3 (from sklearn-crfsuite->bnlp_toolkit)\n",
      "  Downloading https://files.pythonhosted.org/packages/65/9b/1b520e0562ee19b4298dc75e9e27630886e56262753656ef8e46704229ca/python_crfsuite-0.9.7-cp37-cp37m-win_amd64.whl (154kB)\n",
      "Collecting tabulate (from sklearn-crfsuite->bnlp_toolkit)\n",
      "  Downloading https://files.pythonhosted.org/packages/c4/f4/770ae9385990f5a19a91431163d262182d3203662ea2b5739d0fcfc080f1/tabulate-0.8.7-py3-none-any.whl\n",
      "Requirement already satisfied: tqdm>=2.0 in c:\\users\\public\\anaconda3\\lib\\site-packages (from sklearn-crfsuite->bnlp_toolkit) (4.31.1)\n",
      "Requirement already satisfied: singledispatch in c:\\users\\public\\anaconda3\\lib\\site-packages (from nltk->bnlp_toolkit) (3.4.0.3)\n",
      "Collecting Cython==0.29.14 (from gensim->bnlp_toolkit)\n",
      "  Downloading https://files.pythonhosted.org/packages/1f/be/b14be5c3ad1ff73096b518be1538282f053ec34faaca60a8753d975d7e93/Cython-0.29.14-cp37-cp37m-win_amd64.whl (1.7MB)\n",
      "Collecting smart-open>=1.8.1 (from gensim->bnlp_toolkit)\n",
      "  Downloading https://files.pythonhosted.org/packages/18/9c/a16951b5a66c86f0ea8ff5aca8d5c700138e708a76412ee7a2ec7fbd4b44/smart_open-4.1.0.tar.gz (116kB)\n",
      "Building wheels for collected packages: smart-open\n",
      "  Building wheel for smart-open (setup.py): started\n",
      "  Building wheel for smart-open (setup.py): finished with status 'done'\n",
      "  Stored in directory: C:\\Users\\Suborno Deb\\AppData\\Local\\pip\\Cache\\wheels\\eb\\83\\5c\\ead33ff91d363db5c2527b563746ba23887669c0221bd2484f\n",
      "Successfully built smart-open\n",
      "Installing collected packages: sentencepiece, python-crfsuite, tabulate, sklearn-crfsuite, Cython, smart-open, gensim, bnlp-toolkit\n",
      "  Found existing installation: Cython 0.29.6\n",
      "    Uninstalling Cython-0.29.6:\n",
      "      Successfully uninstalled Cython-0.29.6\n",
      "Successfully installed Cython-0.29.14 bnlp-toolkit-3.0.0 gensim-3.8.3 python-crfsuite-0.9.7 sentencepiece-0.1.95 sklearn-crfsuite-0.3.6 smart-open-4.1.0 tabulate-0.8.7\n",
      "Note: you may need to restart the kernel to use updated packages.\n"
     ]
    }
   ],
   "source": [
    "pip install bnlp_toolkit"
   ]
  },
  {
   "cell_type": "code",
   "execution_count": null,
   "metadata": {},
   "outputs": [],
   "source": []
  }
 ],
 "metadata": {
  "kernelspec": {
   "display_name": "Python 3",
   "language": "python",
   "name": "python3"
  },
  "language_info": {
   "codemirror_mode": {
    "name": "ipython",
    "version": 3
   },
   "file_extension": ".py",
   "mimetype": "text/x-python",
   "name": "python",
   "nbconvert_exporter": "python",
   "pygments_lexer": "ipython3",
   "version": "3.7.3"
  }
 },
 "nbformat": 4,
 "nbformat_minor": 2
}
